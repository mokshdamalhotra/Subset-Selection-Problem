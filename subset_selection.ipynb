{
  "nbformat": 4,
  "nbformat_minor": 0,
  "metadata": {
    "colab": {
      "provenance": [],
      "authorship_tag": "ABX9TyNrvr1M2YaV6cnOMBGkfCfK",
      "include_colab_link": true
    },
    "kernelspec": {
      "name": "python3",
      "display_name": "Python 3"
    },
    "language_info": {
      "name": "python"
    }
  },
  "cells": [
    {
      "cell_type": "markdown",
      "metadata": {
        "id": "view-in-github",
        "colab_type": "text"
      },
      "source": [
        "<a href=\"https://colab.research.google.com/github/mokshdamalhotra/Subset-Selection-Problem/blob/main/subset_selection.ipynb\" target=\"_parent\"><img src=\"https://colab.research.google.com/assets/colab-badge.svg\" alt=\"Open In Colab\"/></a>"
      ]
    },
    {
      "cell_type": "code",
      "execution_count": null,
      "metadata": {
        "id": "nZhIAZ6o1Is9"
      },
      "outputs": [],
      "source": [
        "import random as r\n",
        "set_given={-12, -3, -6, 7, 2, -2, 6, 3, 9, -7, -5, -8, 1, 11, -9, -4}\n",
        "def combination(n, r):\n",
        "    prod=1\n",
        "    fact=1\n",
        "    for j in range(1,r+1):\n",
        "        fact*=j\n",
        "    for i in range(n,n-r,-1):\n",
        "        prod*=i\n",
        "    combo=prod/fact\n",
        "    iterations=int(combo)\n",
        "    return iterations\n",
        "subset=set()\n",
        "#size=5\n",
        "size=r.randrange(3,6)\n",
        "for i in range(combination(len(set_given),size)) :\n",
        "    sum=0\n",
        "    five=r.sample(set_given,size)\n",
        "    five.sort()\n",
        "    for j in five:\n",
        "        sum+=j\n",
        "    if sum==0:\n",
        "        subset.add(tuple(five))\n",
        "        continue\n",
        "for m in subset:\n",
        "    print(m)\n",
        "print(\"number of subsets:\",len(subset))\n"
      ]
    }
  ]
}